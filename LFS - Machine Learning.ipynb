{
 "cells": [
  {
   "cell_type": "markdown",
   "metadata": {},
   "source": [
    "# Machine Learning Project  \n",
    "\n",
    "## Course Information  \n",
    "**Course:** STINTSY / S14  \n",
    "**Professor:** Mr. Emerico Aguilar  \n",
    "**University:** De La Salle University (DLSU)  \n",
    "**Term:** AY 2024-2025, Term 2  \n",
    "\n",
    "## Group Members  \n",
    "- **Alfaro, Nathaniel Luis V.**  \n",
    "- **Kabiling, Simon Gabriel M.**  \n",
    "- **Naling, Sebastien M.**  \n",
    "- **Santos, Montgomery**  \n",
    "\n",
    "## Submission Details  \n",
    "**Deadline:** March 28, 2025 (Friday) 6:00 PM  \n",
    "**Demo Schedule:** April 2 to 11, 2025  \n",
    "**Project Weight:** 20% of Final Grade  \n",
    "\n",
    "## Project Title  \n",
    "**Predicting Employment Status using the Labor Force Survey (LFS) 2016 Dataset**  "
   ]
  },
  {
   "cell_type": "markdown",
   "metadata": {},
   "source": [
    "# **Section 1: Introduction to the Problem/Task and Dataset**  \n",
    "\n",
    "### **Problem Statement**\n",
    "The **Labor Force Survey (LFS) 2016** dataset provides insights into employment trends in the Philippines. This project aims to analyze labor force participation and employment patterns.  \n",
    "\n",
    "Our goal is to **predict whether an individual was employed in the past week**, based on demographic, educational, and occupational features.  \n",
    "\n",
    "### **Machine Learning Task: Classification**\n",
    "This is a **classification problem**, where the target variable is:  \n",
    "\n",
    "- **PUFC11_WORK** (`1` = Worked in the past week, `0` = Did not work in the past week).  \n",
    "\n",
    "### **Use Cases and Importance** \n",
    "Understanding employment patterns can help:  \n",
    "- Identify **factors influencing employment status**.  \n",
    "- Recognize **demographic and economic employment trends**.  \n",
    "- Provide **insights for government labor policies** to improve workforce conditions.  \n",
    "\n",
    "### **Dataset Source**  \n",
    "The **LFS 2016 dataset** is sourced from the **Philippine Statistics Authority (PSA)** and can be accessed at:  [LFS 2016 Dataset](https://psada.psa.gov.ph/catalog/67/get-microdata) "
   ]
  },
  {
   "cell_type": "markdown",
   "metadata": {},
   "source": [
    "# **Section 2: Description of the Dataset** \n",
    "\n",
    "### **Overview**  \n",
    "The **Labor Force Survey (LFS) 2016** is conducted by the **Philippine Statistics Authority (PSA)** to assess employment and unemployment trends in the Philippines. The dataset includes information about:  \n",
    "- **Demographics** (age, sex, marital status, education).  \n",
    "- **Employment status** (current job, industry type, working hours).  \n",
    "- **Job search activity** (looking for work, method used, weeks unemployed).  \n",
    "\n",
    "### **Data Collection Process**  \n",
    "The **LFS 2016** was collected through **household surveys** conducted nationwide. Key details:  \n",
    "- The survey is conducted **quarterly** with a **randomly selected** representative sample.  \n",
    "- Data was collected through **interviews** with household members.  \n",
    "- The **self-reported nature** of responses may introduce biases, especially in informal employment sectors.  \n",
    "\n",
    "### **Implications of Data Collection Method**  \n",
    "- **Underreporting**: Informal or freelance workers may not report their actual working status.  \n",
    "- **Sampling Bias**: Rural and urban areas might have different employment patterns.  \n",
    "- **Response Validity**: Participants may misreport their employment status due to recall errors.  \n",
    "\n",
    "### **Structure of the Dataset**  \n",
    "- **Each row (instance) represents**: A surveyed individual.  \n",
    "- **Each column (feature) represents**: A demographic, employment, or job search characteristic.  \n",
    "- **Number of Instances**: Not explicitly stated in the document but can be determined after loading the dataset.  \n",
    "- **Number of Features**: **43 features** related to labor force participation.  \n",
    "\n",
    "### **Complete List of Features**  \n",
    "\n",
    "| **Feature Name**       | **Description** |\n",
    "|----------------------|----------------|\n",
    "| **PUFREG**          | Region |\n",
    "| **PUFPRV**          | Province code |\n",
    "| **PUFPRRCD**        | Province recode |\n",
    "| **PUFHHNUM**        | Household unique sequential number |\n",
    "| **PUFURB2K10**      | Urban / Rural in FIES 2010 survey |\n",
    "| **PUFPWGTFIN**      | Final weight based on projection |\n",
    "| **PUFSVYMO**        | Survey month |\n",
    "| **PUFSVYYR**        | Survey year |\n",
    "| **PUFPSU**          | PSU number |\n",
    "| **PUFRPL**          | Replicate |\n",
    "| **PUFHHSIZE**       | Number of household members |\n",
    "| **PUFC01_LNO**      | Line number identifying each member of the household in the survey |\n",
    "| **PUFC03_REL**      | Relationship of the person to the household head |\n",
    "| **PUFC04_SEX**      | Gender of the individual (Male/Female) |\n",
    "| **PUFC05_AGE**      | Age of the person since last birthday |\n",
    "| **PUFC06_MSTAT**    | Marital status |\n",
    "| **PUFC07_GRADE**    | Highest educational attainment |\n",
    "| **PUFC08_CURSCH**   | Is currently attending school? (Yes/No) |\n",
    "| **PUFC09_GRADTECH** | Graduate of a technical/vocational course? (Yes/No) |\n",
    "| **PUFC10_CONWR**    | Category of Overseas Filipino Worker (OFW) |\n",
    "| **PUFC11_WORK**     | **Target variable: Did the person work in the past week? (1 = Yes, 0 = No)** |\n",
    "| **PUFC12_JOB**      | Did the person have a job or business during the past week? |\n",
    "| **PUFC14_PROCC**    | Primary occupation during the past week |\n",
    "| **PUFC16_PKB**      | Kind of business or industry of the person |\n",
    "| **PUFC17_NATEM**    | Nature of employment (permanent, seasonal, etc.) |\n",
    "| **PUFC18_PNWHRS**   | Normal working hours per day |\n",
    "| **PUFC19_PHOURS**   | Total number of hours worked during the past week |\n",
    "| **PUFC20_PWMORE**   | Do you want more hours of work during the past week? |\n",
    "| **PUFC21_PLADDW**   | Did the person look for additional work during the past week? |\n",
    "| **PUFC22_PFWRK**    | Was this the person’s first time to do any work? |\n",
    "| **PUFC23_PCLASS**   | Class of worker for primary occupation |\n",
    "| **PUFC24_PBASIS**   | Basis of payment for primary occupation |\n",
    "| **PUFC25_PBASIC**   | Basic pay per day for primary occupation |\n",
    "| **PUFC26_OJOB**     | Did the person have another job/business during the past week? |\n",
    "| **PUFC27_NJOBS**    | Number of jobs the person had during the past week |\n",
    "| **PUFC28_THOURS**   | Total number of hours worked across all jobs in the past week |\n",
    "| **PUFC29_WWM48H**   | Main reason for not working more than 48 hours in the past week |\n",
    "| **PUFC30_LOOKW**    | Did the person look for work or try to establish a business in the past week? |\n",
    "| **PUFC31_FLWRK**    | Was it the person’s first time looking for work? |\n",
    "| **PUFC32_JOBSM**    | Job search method used |\n",
    "| **PUFC33_WEEKS**    | Number of weeks spent looking for work |\n",
    "| **PUFC34_WYNOT**    | Reason for not looking for work |\n",
    "| **PUFC35_LTLOOKW**  | When was the last time the person looked for work? |\n",
    "| **PUFC36_AVAIL**    | If work was available, would the person have accepted it? |\n",
    "| **PUFC37_WILLING**  | Is the person willing to take up work in the past week or within 2 weeks? |\n",
    "| **PUFC38_PREVJOB**  | Has the person worked at any time before? |\n",
    "| **PUFC40_POCC**     | What was the person’s last occupation? |\n",
    "| **PUFC41_WQTR**     | Did the person work or have a business in the past quarter? |\n",
    "| **PUFC43_QKB**      | Kind of business for the past quarter |\n",
    "| **PUFNEWEMPSTAT**   | New Employment Criteria |\n",
    "\n",
    "### **Key Features in the Dataset**  \n",
    "\n",
    "| **Feature Name**      | **Description** |\n",
    "|----------------------|----------------|\n",
    "| **PUFC04_SEX**       | Gender of the individual (Male/Female). |\n",
    "| **PUFC05_AGE**       | Age in years. |\n",
    "| **PUFC06_MSTAT**     | Marital status. |\n",
    "| **PUFC07_GRADE**     | Highest educational attainment. |\n",
    "| **PUFC08_CURSCH**    | Is currently attending school? (Yes/No). |\n",
    "| **PUFC11_WORK**      | **Target variable: Worked in the past week?** (`1 = Yes, 0 = No`). |\n",
    "| **PUFC14_PROCC**     | Primary occupation during the past week. |\n",
    "| **PUFC16_PKB**       | Business/industry sector. |\n",
    "| **PUFC17_NATEM**     | Nature of employment (permanent, seasonal, etc.). |\n",
    "| **PUFC18_PNWHRS**    | Normal working hours per day. |\n",
    "| **PUFC19_PHOURS**    | Total hours worked in the past week. |\n",
    "| **PUFC30_LOOKW**     | Did the person look for work in the past week? |\n",
    "| **PUFC34_WYNOT**     | Reason for not looking for work. |\n",
    "\n",
    "### **Implications for the Study**  \n",
    "- **Education level (`PUFC07_GRADE`)** may impact employment probability.  \n",
    "- **Age (`PUFC05_AGE`)** could indicate trends in youth and elderly employment.  \n",
    "- **Industry sector (`PUFC16_PKB`)** helps analyze job availability in different fields.  \n",
    "- **Job search behavior (`PUFC30_LOOKW`)** may indicate long-term unemployment trends.  \n",
    "\n",
    "This dataset provides a rich source of information for understanding employment trends and predicting labor force participation.  \n"
   ]
  },
  {
   "cell_type": "markdown",
   "metadata": {},
   "source": [
    "# Section 3. List of requirements"
   ]
  },
  {
   "cell_type": "markdown",
   "metadata": {},
   "source": [
    "### 3.1 Importing the Libraries and Dataset"
   ]
  },
  {
   "cell_type": "markdown",
   "metadata": {},
   "source": [
    "To proceed with data cleaning, we will start by importing the necessary libraries."
   ]
  },
  {
   "cell_type": "markdown",
   "metadata": {},
   "source": [
    "# Section 4. Data preprocessing and cleaning"
   ]
  },
  {
   "cell_type": "markdown",
   "metadata": {},
   "source": [
    "# Section 5. Exploratory data analysis"
   ]
  },
  {
   "cell_type": "markdown",
   "metadata": {},
   "source": [
    "# Section 6. Initial model training"
   ]
  },
  {
   "cell_type": "markdown",
   "metadata": {},
   "source": [
    "# Section 7. Error analysis"
   ]
  },
  {
   "cell_type": "markdown",
   "metadata": {},
   "source": [
    "# Section 8. Improving model performance"
   ]
  },
  {
   "cell_type": "markdown",
   "metadata": {},
   "source": [
    "# Section 9. Model performance summary"
   ]
  },
  {
   "cell_type": "markdown",
   "metadata": {},
   "source": [
    "# Section 10. Insights and conclusions"
   ]
  },
  {
   "cell_type": "markdown",
   "metadata": {},
   "source": [
    "# Section 11. References"
   ]
  }
 ],
 "metadata": {
  "language_info": {
   "name": "python"
  }
 },
 "nbformat": 4,
 "nbformat_minor": 2
}
